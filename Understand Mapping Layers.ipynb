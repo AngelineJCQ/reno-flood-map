{
 "cells": [
  {
   "cell_type": "code",
   "execution_count": 1,
   "id": "2a7e00c6",
   "metadata": {},
   "outputs": [],
   "source": [
    "import pandas as pd\n",
    "import geopandas as gpd"
   ]
  },
  {
   "cell_type": "code",
   "execution_count": 2,
   "id": "0ee1d872",
   "metadata": {},
   "outputs": [],
   "source": [
    "inundation = gpd.read_file(\"CTWCD_Inundation_Boundary.geojson\")"
   ]
  },
  {
   "cell_type": "code",
   "execution_count": 3,
   "id": "ba064403",
   "metadata": {},
   "outputs": [],
   "source": [
    "fema = gpd.read_file(\"FEMA_2019_Hub.geojson\")"
   ]
  },
  {
   "cell_type": "code",
   "execution_count": 7,
   "id": "3dfdef5b",
   "metadata": {},
   "outputs": [
    {
     "data": {
      "text/html": [
       "<div>\n",
       "<style scoped>\n",
       "    .dataframe tbody tr th:only-of-type {\n",
       "        vertical-align: middle;\n",
       "    }\n",
       "\n",
       "    .dataframe tbody tr th {\n",
       "        vertical-align: top;\n",
       "    }\n",
       "\n",
       "    .dataframe thead th {\n",
       "        text-align: right;\n",
       "    }\n",
       "</style>\n",
       "<table border=\"1\" class=\"dataframe\">\n",
       "  <thead>\n",
       "    <tr style=\"text-align: right;\">\n",
       "      <th></th>\n",
       "      <th>OBJECTID</th>\n",
       "      <th>FID_1D_2D_</th>\n",
       "      <th>Id</th>\n",
       "      <th>FID_1D_2D1</th>\n",
       "      <th>COMMENTS</th>\n",
       "      <th>Shape__Area</th>\n",
       "      <th>Shape__Length</th>\n",
       "      <th>geometry</th>\n",
       "    </tr>\n",
       "  </thead>\n",
       "  <tbody>\n",
       "    <tr>\n",
       "      <th>0</th>\n",
       "      <td>1</td>\n",
       "      <td>-1</td>\n",
       "      <td>0</td>\n",
       "      <td>5542</td>\n",
       "      <td>None</td>\n",
       "      <td>3.772658e+05</td>\n",
       "      <td>14701.256783</td>\n",
       "      <td>POLYGON Z ((-119.99432 39.49107 0.00000, -119....</td>\n",
       "    </tr>\n",
       "    <tr>\n",
       "      <th>1</th>\n",
       "      <td>2</td>\n",
       "      <td>-1</td>\n",
       "      <td>0</td>\n",
       "      <td>5542</td>\n",
       "      <td>None</td>\n",
       "      <td>1.263886e+06</td>\n",
       "      <td>46244.251130</td>\n",
       "      <td>POLYGON Z ((-119.88994 39.50606 0.00000, -119....</td>\n",
       "    </tr>\n",
       "    <tr>\n",
       "      <th>2</th>\n",
       "      <td>3</td>\n",
       "      <td>-1</td>\n",
       "      <td>0</td>\n",
       "      <td>5542</td>\n",
       "      <td>None</td>\n",
       "      <td>3.434474e+05</td>\n",
       "      <td>13532.892772</td>\n",
       "      <td>MULTIPOLYGON Z (((-119.94417 39.50956 0.00000,...</td>\n",
       "    </tr>\n",
       "    <tr>\n",
       "      <th>3</th>\n",
       "      <td>4</td>\n",
       "      <td>-1</td>\n",
       "      <td>0</td>\n",
       "      <td>5542</td>\n",
       "      <td>Note: CTWCD layer does not depict regulatory i...</td>\n",
       "      <td>5.700258e+05</td>\n",
       "      <td>22071.457827</td>\n",
       "      <td>MULTIPOLYGON Z (((-119.90382 39.50841 0.00000,...</td>\n",
       "    </tr>\n",
       "    <tr>\n",
       "      <th>4</th>\n",
       "      <td>5</td>\n",
       "      <td>-1</td>\n",
       "      <td>0</td>\n",
       "      <td>5542</td>\n",
       "      <td>None</td>\n",
       "      <td>9.220941e+05</td>\n",
       "      <td>33683.882806</td>\n",
       "      <td>MULTIPOLYGON Z (((-119.97259 39.52004 0.00000,...</td>\n",
       "    </tr>\n",
       "  </tbody>\n",
       "</table>\n",
       "</div>"
      ],
      "text/plain": [
       "   OBJECTID  FID_1D_2D_  Id  FID_1D_2D1  \\\n",
       "0         1          -1   0        5542   \n",
       "1         2          -1   0        5542   \n",
       "2         3          -1   0        5542   \n",
       "3         4          -1   0        5542   \n",
       "4         5          -1   0        5542   \n",
       "\n",
       "                                            COMMENTS   Shape__Area  \\\n",
       "0                                               None  3.772658e+05   \n",
       "1                                               None  1.263886e+06   \n",
       "2                                               None  3.434474e+05   \n",
       "3  Note: CTWCD layer does not depict regulatory i...  5.700258e+05   \n",
       "4                                               None  9.220941e+05   \n",
       "\n",
       "   Shape__Length                                           geometry  \n",
       "0   14701.256783  POLYGON Z ((-119.99432 39.49107 0.00000, -119....  \n",
       "1   46244.251130  POLYGON Z ((-119.88994 39.50606 0.00000, -119....  \n",
       "2   13532.892772  MULTIPOLYGON Z (((-119.94417 39.50956 0.00000,...  \n",
       "3   22071.457827  MULTIPOLYGON Z (((-119.90382 39.50841 0.00000,...  \n",
       "4   33683.882806  MULTIPOLYGON Z (((-119.97259 39.52004 0.00000,...  "
      ]
     },
     "execution_count": 7,
     "metadata": {},
     "output_type": "execute_result"
    }
   ],
   "source": [
    "inundation.head()"
   ]
  },
  {
   "cell_type": "code",
   "execution_count": 16,
   "id": "650f3c15",
   "metadata": {},
   "outputs": [
    {
     "data": {
      "text/plain": [
       "Note: CTWCD layer does not depict regulatory information, and may not be in agreement with the FEMA layer    1\n",
       "Name: COMMENTS, dtype: int64"
      ]
     },
     "execution_count": 16,
     "metadata": {},
     "output_type": "execute_result"
    }
   ],
   "source": [
    "inundation['COMMENTS'].value_counts()"
   ]
  },
  {
   "cell_type": "code",
   "execution_count": 8,
   "id": "3dda20e2",
   "metadata": {},
   "outputs": [
    {
     "data": {
      "text/html": [
       "<div>\n",
       "<style scoped>\n",
       "    .dataframe tbody tr th:only-of-type {\n",
       "        vertical-align: middle;\n",
       "    }\n",
       "\n",
       "    .dataframe tbody tr th {\n",
       "        vertical-align: top;\n",
       "    }\n",
       "\n",
       "    .dataframe thead th {\n",
       "        text-align: right;\n",
       "    }\n",
       "</style>\n",
       "<table border=\"1\" class=\"dataframe\">\n",
       "  <thead>\n",
       "    <tr style=\"text-align: right;\">\n",
       "      <th></th>\n",
       "      <th>OBJECTID</th>\n",
       "      <th>DFIRM_ID</th>\n",
       "      <th>VERSION_ID</th>\n",
       "      <th>FLD_AR_ID</th>\n",
       "      <th>STUDY_TYP</th>\n",
       "      <th>FLD_ZONE</th>\n",
       "      <th>ZONE_SUBTY</th>\n",
       "      <th>SFHA_TF</th>\n",
       "      <th>STATIC_BFE</th>\n",
       "      <th>V_DATUM</th>\n",
       "      <th>...</th>\n",
       "      <th>VEL_UNIT</th>\n",
       "      <th>AR_REVERT</th>\n",
       "      <th>AR_SUBTRV</th>\n",
       "      <th>BFE_REVERT</th>\n",
       "      <th>DEP_REVERT</th>\n",
       "      <th>DUAL_ZONE</th>\n",
       "      <th>SOURCE_CIT</th>\n",
       "      <th>SHAPE_Length</th>\n",
       "      <th>SHAPE_Area</th>\n",
       "      <th>geometry</th>\n",
       "    </tr>\n",
       "  </thead>\n",
       "  <tbody>\n",
       "    <tr>\n",
       "      <th>0</th>\n",
       "      <td>1</td>\n",
       "      <td>32031C</td>\n",
       "      <td>1.1.1.0</td>\n",
       "      <td>32031C_653</td>\n",
       "      <td>NP</td>\n",
       "      <td>X</td>\n",
       "      <td>0.2 PCT ANNUAL CHANCE FLOOD HAZARD</td>\n",
       "      <td>F</td>\n",
       "      <td>-9999.0</td>\n",
       "      <td></td>\n",
       "      <td>...</td>\n",
       "      <td></td>\n",
       "      <td></td>\n",
       "      <td></td>\n",
       "      <td>-9999.0</td>\n",
       "      <td>-9999.0</td>\n",
       "      <td></td>\n",
       "      <td>32031C_LOMC59</td>\n",
       "      <td>0.012184</td>\n",
       "      <td>3.070321e-06</td>\n",
       "      <td>MULTIPOLYGON (((-119.74792 39.48370, -119.7477...</td>\n",
       "    </tr>\n",
       "    <tr>\n",
       "      <th>1</th>\n",
       "      <td>2</td>\n",
       "      <td>32031C</td>\n",
       "      <td>1.1.1.0</td>\n",
       "      <td>32031C_654</td>\n",
       "      <td>NP</td>\n",
       "      <td>AE</td>\n",
       "      <td>FLOODWAY</td>\n",
       "      <td>T</td>\n",
       "      <td>-9999.0</td>\n",
       "      <td></td>\n",
       "      <td>...</td>\n",
       "      <td></td>\n",
       "      <td></td>\n",
       "      <td></td>\n",
       "      <td>-9999.0</td>\n",
       "      <td>-9999.0</td>\n",
       "      <td></td>\n",
       "      <td>32031C_STUDY2</td>\n",
       "      <td>0.021107</td>\n",
       "      <td>3.464815e-06</td>\n",
       "      <td>MULTIPOLYGON (((-119.96743 39.65053, -119.9671...</td>\n",
       "    </tr>\n",
       "    <tr>\n",
       "      <th>2</th>\n",
       "      <td>3</td>\n",
       "      <td>32031C</td>\n",
       "      <td>1.1.1.0</td>\n",
       "      <td>32031C_655</td>\n",
       "      <td>NP</td>\n",
       "      <td>AE</td>\n",
       "      <td></td>\n",
       "      <td>T</td>\n",
       "      <td>-9999.0</td>\n",
       "      <td></td>\n",
       "      <td>...</td>\n",
       "      <td></td>\n",
       "      <td></td>\n",
       "      <td></td>\n",
       "      <td>-9999.0</td>\n",
       "      <td>-9999.0</td>\n",
       "      <td></td>\n",
       "      <td>32031C_STUDY2</td>\n",
       "      <td>0.007873</td>\n",
       "      <td>2.498912e-07</td>\n",
       "      <td>MULTIPOLYGON (((-119.95542 39.64107, -119.9553...</td>\n",
       "    </tr>\n",
       "    <tr>\n",
       "      <th>3</th>\n",
       "      <td>4</td>\n",
       "      <td>32031C</td>\n",
       "      <td>1.1.1.0</td>\n",
       "      <td>32031C_656</td>\n",
       "      <td>NP</td>\n",
       "      <td>X</td>\n",
       "      <td>AREA OF MINIMAL FLOOD HAZARD</td>\n",
       "      <td>F</td>\n",
       "      <td>-9999.0</td>\n",
       "      <td></td>\n",
       "      <td>...</td>\n",
       "      <td></td>\n",
       "      <td></td>\n",
       "      <td></td>\n",
       "      <td>-9999.0</td>\n",
       "      <td>-9999.0</td>\n",
       "      <td></td>\n",
       "      <td>32031C_STUDY2</td>\n",
       "      <td>0.003246</td>\n",
       "      <td>3.214460e-07</td>\n",
       "      <td>MULTIPOLYGON (((-119.92505 39.65109, -119.9250...</td>\n",
       "    </tr>\n",
       "    <tr>\n",
       "      <th>4</th>\n",
       "      <td>5</td>\n",
       "      <td>32031C</td>\n",
       "      <td>1.1.1.0</td>\n",
       "      <td>32031C_657</td>\n",
       "      <td>NP</td>\n",
       "      <td>A</td>\n",
       "      <td></td>\n",
       "      <td>T</td>\n",
       "      <td>-9999.0</td>\n",
       "      <td></td>\n",
       "      <td>...</td>\n",
       "      <td></td>\n",
       "      <td></td>\n",
       "      <td></td>\n",
       "      <td>-9999.0</td>\n",
       "      <td>-9999.0</td>\n",
       "      <td></td>\n",
       "      <td>32031C_STUDY1</td>\n",
       "      <td>0.003523</td>\n",
       "      <td>5.778596e-07</td>\n",
       "      <td>MULTIPOLYGON (((-119.71464 39.54212, -119.7146...</td>\n",
       "    </tr>\n",
       "  </tbody>\n",
       "</table>\n",
       "<p>5 rows × 23 columns</p>\n",
       "</div>"
      ],
      "text/plain": [
       "   OBJECTID DFIRM_ID VERSION_ID   FLD_AR_ID STUDY_TYP FLD_ZONE  \\\n",
       "0         1   32031C    1.1.1.0  32031C_653        NP        X   \n",
       "1         2   32031C    1.1.1.0  32031C_654        NP       AE   \n",
       "2         3   32031C    1.1.1.0  32031C_655        NP       AE   \n",
       "3         4   32031C    1.1.1.0  32031C_656        NP        X   \n",
       "4         5   32031C    1.1.1.0  32031C_657        NP        A   \n",
       "\n",
       "                           ZONE_SUBTY SFHA_TF  STATIC_BFE V_DATUM  ...  \\\n",
       "0  0.2 PCT ANNUAL CHANCE FLOOD HAZARD       F     -9999.0          ...   \n",
       "1                            FLOODWAY       T     -9999.0          ...   \n",
       "2                                           T     -9999.0          ...   \n",
       "3        AREA OF MINIMAL FLOOD HAZARD       F     -9999.0          ...   \n",
       "4                                           T     -9999.0          ...   \n",
       "\n",
       "   VEL_UNIT AR_REVERT  AR_SUBTRV BFE_REVERT DEP_REVERT DUAL_ZONE  \\\n",
       "0                                   -9999.0    -9999.0             \n",
       "1                                   -9999.0    -9999.0             \n",
       "2                                   -9999.0    -9999.0             \n",
       "3                                   -9999.0    -9999.0             \n",
       "4                                   -9999.0    -9999.0             \n",
       "\n",
       "      SOURCE_CIT  SHAPE_Length    SHAPE_Area  \\\n",
       "0  32031C_LOMC59      0.012184  3.070321e-06   \n",
       "1  32031C_STUDY2      0.021107  3.464815e-06   \n",
       "2  32031C_STUDY2      0.007873  2.498912e-07   \n",
       "3  32031C_STUDY2      0.003246  3.214460e-07   \n",
       "4  32031C_STUDY1      0.003523  5.778596e-07   \n",
       "\n",
       "                                            geometry  \n",
       "0  MULTIPOLYGON (((-119.74792 39.48370, -119.7477...  \n",
       "1  MULTIPOLYGON (((-119.96743 39.65053, -119.9671...  \n",
       "2  MULTIPOLYGON (((-119.95542 39.64107, -119.9553...  \n",
       "3  MULTIPOLYGON (((-119.92505 39.65109, -119.9250...  \n",
       "4  MULTIPOLYGON (((-119.71464 39.54212, -119.7146...  \n",
       "\n",
       "[5 rows x 23 columns]"
      ]
     },
     "execution_count": 8,
     "metadata": {},
     "output_type": "execute_result"
    }
   ],
   "source": [
    "fema.head()"
   ]
  },
  {
   "cell_type": "code",
   "execution_count": 19,
   "id": "bfd0de65",
   "metadata": {},
   "outputs": [
    {
     "data": {
      "text/plain": [
       "Index(['OBJECTID', 'DFIRM_ID', 'VERSION_ID', 'FLD_AR_ID', 'STUDY_TYP',\n",
       "       'FLD_ZONE', 'ZONE_SUBTY', 'SFHA_TF', 'STATIC_BFE', 'V_DATUM', 'DEPTH',\n",
       "       'LEN_UNIT', 'VELOCITY', 'VEL_UNIT', 'AR_REVERT', 'AR_SUBTRV',\n",
       "       'BFE_REVERT', 'DEP_REVERT', 'DUAL_ZONE', 'SOURCE_CIT', 'SHAPE_Length',\n",
       "       'SHAPE_Area', 'geometry'],\n",
       "      dtype='object')"
      ]
     },
     "execution_count": 19,
     "metadata": {},
     "output_type": "execute_result"
    }
   ],
   "source": [
    "fema.columns"
   ]
  },
  {
   "cell_type": "code",
   "execution_count": 9,
   "id": "aa72f93d",
   "metadata": {},
   "outputs": [
    {
     "data": {
      "text/plain": [
       "                                             431\n",
       "0.2 PCT ANNUAL CHANCE FLOOD HAZARD           262\n",
       "AREA OF MINIMAL FLOOD HAZARD                 108\n",
       "FLOODWAY                                      41\n",
       "AREA WITH REDUCED FLOOD RISK DUE TO LEVEE      3\n",
       "Name: ZONE_SUBTY, dtype: int64"
      ]
     },
     "execution_count": 9,
     "metadata": {},
     "output_type": "execute_result"
    }
   ],
   "source": [
    "fema.ZONE_SUBTY.value_counts()"
   ]
  },
  {
   "cell_type": "code",
   "execution_count": 10,
   "id": "2d7f8598",
   "metadata": {},
   "outputs": [
    {
     "data": {
      "text/plain": [
       "(845, 23)"
      ]
     },
     "execution_count": 10,
     "metadata": {},
     "output_type": "execute_result"
    }
   ],
   "source": [
    "fema.shape"
   ]
  }
 ],
 "metadata": {
  "kernelspec": {
   "display_name": "Python 3 (ipykernel)",
   "language": "python",
   "name": "python3"
  },
  "language_info": {
   "codemirror_mode": {
    "name": "ipython",
    "version": 3
   },
   "file_extension": ".py",
   "mimetype": "text/x-python",
   "name": "python",
   "nbconvert_exporter": "python",
   "pygments_lexer": "ipython3",
   "version": "3.9.7"
  }
 },
 "nbformat": 4,
 "nbformat_minor": 5
}
